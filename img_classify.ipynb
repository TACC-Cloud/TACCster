{
 "cells": [
  {
   "cell_type": "markdown",
   "source": [
    "# TACCSTER 2022 Hands-on\n",
    "\n",
    "In this notebook, you will use Tapis v3 to create two systems and one application that will be used to run\n",
    "an image classification job on both a VM using docker and an HPC type host using singularity.\n",
    "\n",
    "To execute each `In[#]` cell, you can click inside the cell and press `Shift + Enter`"
   ],
   "metadata": {
    "collapsed": false
   }
  },
  {
   "cell_type": "markdown",
   "source": [
    "Install Tapis Python SDK.  After running the code below you need to restart the runtime - go to the Menu and select Runtime -> Restart runtime or use CTRL+M on the keyboard. Now you can execute the code in the notebook and follow the rest of the tutorial."
   ],
   "metadata": {
    "collapsed": false
   }
  },
  {
   "cell_type": "markdown",
   "source": [
    "pip install tapipy"
   ],
   "metadata": {
    "collapsed": false
   }
  },
  {
   "cell_type": "markdown",
   "source": [
    "## Enter training account information\n",
    "\n",
    "To get things started, please run the following and enter the training account information provided to you:"
   ],
   "metadata": {
    "collapsed": false
   }
  },
  {
   "cell_type": "markdown",
   "source": [
    "import getpass\n",
    "\n",
    "tenant = 'training'\n",
    "base_url = 'https://' + tenant + '.tapis.io'\n",
    "\n",
    "# Enter Tapis Username. Example: trainingXX\n",
    "username = input('Username: ')\n",
    "# Enter Tapis password. Example: trainingXX\n",
    "password = getpass.getpass(prompt='Password: ', stream=None)\n",
    "# Enter VM password shared with you on email\n",
    "password_vm = getpass.getpass(prompt='Password for VM: ', stream=None)\n",
    "# IP address of VM \n",
    "host = input('Host: ')"
   ],
   "metadata": {
    "collapsed": false
   }
  },
  {
   "cell_type": "markdown",
   "source": [
    "## Authenticate and initialize Tapis v3 client\n",
    "\n",
    "Using this information, you can now use `tapipy` to authenticate in the tenant and initialize the\n",
    "Tapis v3 client. You should see your token information displayed. This may take a while to run but should take\n",
    "no more than 30 seconds."
   ],
   "metadata": {
    "collapsed": false
   }
  },
  {
   "cell_type": "markdown",
   "source": [
    "from tapipy.tapis import Tapis\n",
    "#Create python Tapis client for user\n",
    "client = Tapis(base_url= base_url, username=username, password=password)\n",
    "# *** Tapis v3: Call to Tokens API\n",
    "client.get_tokens()\n",
    "# Print Tapis v3 token\n",
    "client.access_token"
   ],
   "metadata": {
    "collapsed": false
   }
  },
  {
   "cell_type": "markdown",
   "source": [
    "## Systems\n",
    "\n",
    "In this section we create two Tapis systems, one for running on a VM host using FORK and one for running on an HPC type host using BATCH.\n",
    "\n",
    "Note that although it is possible, we have not provided any login credentials in the system definitions.\n",
    "Well-crafted system definitions are likely to be copied and re-used, so, for security reasons, it is recommended that\n",
    "login credentials be registered using separate API calls as discussed below.\n",
    "\n",
    "### Create a system for the VM host"
   ],
   "metadata": {
    "collapsed": false
   }
  },
  {
   "cell_type": "markdown",
   "source": [
    "user_id = username\n",
    "system_id_vm = \"taccster-vm-\" + user_id\n",
    "\n",
    "# Create the system definition\n",
    "exec_system_vm = {\n",
    "  \"id\": system_id_vm,\n",
    "  \"description\": \"Test system\",\n",
    "  \"systemType\": \"LINUX\",\n",
    "  \"host\": host,\n",
    "  \"effectiveUserId\": user_id,\n",
    "  \"defaultAuthnMethod\": \"PASSWORD\",\n",
    "  \"rootDir\": \"/home/\"+user_id,\n",
    "  \"canExec\": True,\n",
    "  \"jobRuntimes\": [ { \"runtimeType\": \"SINGULARITY\" } ],\n",
    "  \"jobWorkingDir\": \"workdir\",\n",
    "}\n",
    "\n",
    "# Use the client to create the system in Tapis\n",
    "print(\"****************************************************\")\n",
    "print(\"Create system: \" + system_id_vm)\n",
    "print(\"****************************************************\")\n",
    "client.systems.createSystem(**exec_system_vm)\n",
    "\n",
    "\n",
    "# If you need to update the system, you can modify the original definition and use the putSystem call.\n",
    "# - modify the above definition as needed\n",
    "# - comment out the above line with the call to createSystem()\n",
    "# - uncomment the below line with the call to updateSystem()\n",
    "# - re-run the cell\n",
    "# Note that not all attributes may be updated.\n",
    "#client.systems.putSystem(**exec_system_vm, systemId=system_id_vm)"
   ],
   "metadata": {
    "collapsed": false
   }
  },
  {
   "cell_type": "markdown",
   "source": [
    "# You can also update just a few attributes using the patchSystem call.\n",
    "# Note that not all attributes may be updated and some attributes, such as *enabled*,\n",
    "#   may only be updated using a specific call.\n",
    "# For example, to update the description, first define the json to be used:\n",
    "patch_system_vm = {\n",
    "  \"description\": \"System for testing jobs on a VM for TACCSTER\"\n",
    "}\n",
    "\n",
    "# Then use the client to make the update:\n",
    "client.systems.patchSystem(**patch_system_vm, systemId=system_id_vm)"
   ],
   "metadata": {
    "collapsed": false
   }
  },
  {
   "cell_type": "markdown",
   "source": [
    "# List all systems available to you\n",
    "print(\"****************************************************\")\n",
    "print(\"List all systems\")\n",
    "print(\"****************************************************\")\n",
    "client.systems.getSystems()"
   ],
   "metadata": {
    "collapsed": false
   }
  },
  {
   "cell_type": "markdown",
   "source": [
    "# Get details for the system you created\n",
    "print(\"****************************************************\")\n",
    "print(\"Fetch system: \" + system_id_vm)\n",
    "print(\"****************************************************\")\n",
    "client.systems.getSystem(systemId=system_id_vm)"
   ],
   "metadata": {
    "collapsed": false
   }
  },
  {
   "cell_type": "markdown",
   "source": [
    "### Register Credentials for the VM system\n",
    "\n",
    "After creating the system, you will need to register credentials for your username. These will be used by Tapis to\n",
    "access the host. Various authentication methods can be used to access a system, such as PASSWORD and PKI_KEYS. For the\n",
    "VM a password is used."
   ],
   "metadata": {
    "collapsed": false
   }
  },
  {
   "cell_type": "markdown",
   "source": [
    "# Register credentials\n",
    "client.systems.createUserCredential(systemId=system_id_vm, userName=user_id, password=password_vm)"
   ],
   "metadata": {
    "collapsed": false
   }
  },
  {
   "cell_type": "markdown",
   "source": [
    "Now you can use the client to list files on the system. This will confirm that the credentials are valid."
   ],
   "metadata": {
    "collapsed": false
   }
  },
  {
   "cell_type": "markdown",
   "source": [
    "# List files at the rootDir for the system\n",
    "client.files.listFiles(systemId=system_id_vm, path=\"/\")"
   ],
   "metadata": {
    "collapsed": false
   }
  },
  {
   "cell_type": "markdown",
   "source": [
    "### Create a system for the HPC cluster\n",
    "\n",
    "With just a few changes to the system definition you can create a second system that can be used to run the\n",
    "same application on an HPC type host. Note the minimal changes:\n",
    "\n",
    "* **id** - A unique id is required\n",
    "* **host** - Main hostname for the HPC system.\n",
    "* **rootDir** - Using the root directory of the host gives us flexibility in setting **jobWorkingDir**.\n",
    "  Note that you still need LINUX permissions.\n",
    "* **jobWorkingDir** - Now determined dynamically using the Tapis v3 function HOST_EVAL()\n",
    "* **jobRuntimes** - Most HPC systems support singularity and not docker\n",
    "* **batchLogicalQueue.hpcQueueName** - HPC queue to use by default.\n",
    "* **batchLogicalQueues** - HPC queue definitions for this HPC system."
   ],
   "metadata": {
    "collapsed": false
   }
  },
  {
   "cell_type": "markdown",
   "source": [
    "user_id = username\n",
    "system_id_hpc = \"taccster-hpc-\" + user_id\n",
    "\n",
    "# Create the system definition\n",
    "exec_system_hpc = {\n",
    "  \"id\": system_id_hpc,\n",
    "  \"description\": \"System for testing jobs on an HPC type host for TACCSTER\",\n",
    "  \"systemType\": \"LINUX\",\n",
    "  \"host\": host,\n",
    "  \"defaultAuthnMethod\": \"PASSWORD\",\n",
    "  \"effectiveUserId\": user_id,\n",
    "  \"rootDir\": \"/home/\"+user_id,\n",
    "  \"canExec\": True,\n",
    "  \"jobRuntimes\": [ { \"runtimeType\": \"SINGULARITY\" } ],\n",
    "  \"jobWorkingDir\": \"workdir\",\n",
    "  \"canRunBatch\": True,\n",
    "  \"batchScheduler\": \"SLURM\",\n",
    "  \"batchSchedulerProfile\": \"tacc\",\n",
    "  \"batchDefaultLogicalQueue\": \"tapisNormal\",\n",
    "  \"batchLogicalQueues\": [\n",
    "    {\n",
    "      \"name\": \"tapisNormal\",\n",
    "      \"hpcQueueName\": \"normal\",\n",
    "      \"maxJobs\": 50,\n",
    "      \"maxJobsPerUser\": 10,\n",
    "      \"minNodeCount\": 1,\n",
    "      \"maxNodeCount\": 16,\n",
    "      \"minCoresPerNode\": 1,\n",
    "      \"maxCoresPerNode\": 68,\n",
    "      \"minMemoryMB\": 1,\n",
    "      \"maxMemoryMB\": 16384,\n",
    "      \"minMinutes\": 1,\n",
    "      \"maxMinutes\": 60\n",
    "    }\n",
    "  ]\n",
    "}\n",
    "\n",
    "# Use the client to create the system in Tapis\n",
    "print(\"****************************************************\")\n",
    "print(\"Create system: \" + system_id_hpc)\n",
    "print(\"****************************************************\")\n",
    "client.systems.createSystem(**exec_system_hpc)\n",
    "\n",
    "# If you need to update the system,\n",
    "# - modify the above definition as needed\n",
    "# - comment out the above line\n",
    "# - uncomment the below line\n",
    "# - re-run the cell\n",
    "#client.systems.putSystem(**exec_system_hpc, systemId=system_id_hpc)\n"
   ],
   "metadata": {
    "collapsed": false
   }
  },
  {
   "cell_type": "markdown",
   "source": [
    "# List all systems available to you\n",
    "print(\"****************************************************\")\n",
    "print(\"List all systems\")\n",
    "print(\"****************************************************\")\n",
    "client.systems.getSystems()"
   ],
   "metadata": {
    "collapsed": false
   }
  },
  {
   "cell_type": "markdown",
   "source": [
    "# Get details for the system you created\n",
    "print(\"****************************************************\")\n",
    "print(\"Fetch system: \" + system_id_hpc)\n",
    "print(\"****************************************************\")\n",
    "client.systems.getSystem(systemId=system_id_hpc)"
   ],
   "metadata": {
    "collapsed": false
   }
  },
  {
   "cell_type": "markdown",
   "source": [
    "### Register Credentials for the HPC system\n",
    "\n",
    "As before, now you will need to register credentials for your username. These will be used by Tapis to\n",
    "access the host."
   ],
   "metadata": {
    "collapsed": false
   }
  },
  {
   "cell_type": "markdown",
   "source": [
    "password_hpc = password_vm\n",
    "# Register credentials\n",
    "client.systems.createUserCredential(systemId=system_id_hpc, userName=user_id, password=password_hpc)"
   ],
   "metadata": {
    "collapsed": false
   }
  },
  {
   "cell_type": "markdown",
   "source": [
    "Now you can use the client to list files on the system. This will confirm that the credentials are valid."
   ],
   "metadata": {
    "collapsed": false
   }
  },
  {
   "cell_type": "markdown",
   "source": [
    "# List files at the rootDir for the system\n",
    "path_to_list = \"/\"\n",
    "client.files.listFiles(systemId=system_id_hpc, path=path_to_list)"
   ],
   "metadata": {
    "collapsed": false
   }
  },
  {
   "cell_type": "markdown",
   "source": [
    "## Application\n",
    "\n",
    "In order to run a job on a system you will need to create a Tapis application.\n",
    "\n",
    "### Create an application that can be run on the VM host or the HPC cluster"
   ],
   "metadata": {
    "collapsed": false
   }
  },
  {
   "cell_type": "markdown",
   "source": [
    "user_id = username\n",
    "app_id = \"taccster-img-classify-\" + user_id\n",
    "\n",
    "# Create the application definition\n",
    "app_def = {\n",
    "  \"id\": app_id,\n",
    "  \"version\": \"0.0.1\",\n",
    "  \"description\": \"Image classifier application\",\n",
    "  \"runtime\": \"SINGULARITY\",\n",
    "  \"runtimeOptions\": [\"SINGULARITY_RUN\"],\n",
    "  \"containerImage\": \"/tmp/img-classify_03.sif\",\n",
    "  \"jobAttributes\": {\n",
    "    \"parameterSet\": {\n",
    "      \"archiveFilter\": { \"includeLaunchFiles\": False }\n",
    "    },\n",
    "    \"memoryMB\": 1,\n",
    "    \"nodeCount\": 1,\n",
    "    \"coresPerNode\": 1,\n",
    "    \"maxMinutes\": 10\n",
    "  }\n",
    "}\n",
    "\n",
    "# Use the client to create the application in Tapis\n",
    "print(\"****************************************************\")\n",
    "print(\"Create application: \" + app_id)\n",
    "print(\"****************************************************\")\n",
    "client.apps.createAppVersion(**app_def)\n",
    "\n",
    "# If you need to update the application,\n",
    "# - modify the above definition as needed\n",
    "# - comment out the above line\n",
    "# - uncomment the below line\n",
    "# - re-run the cell\n",
    "#client.apps.putApp(**app_def, appId=app_id, appVersion=\"0.0.1\")"
   ],
   "metadata": {
    "collapsed": false
   }
  },
  {
   "cell_type": "markdown",
   "source": [
    "# List all applications available to you\n",
    "print(\"****************************************************\")\n",
    "print(\"List all applications\")\n",
    "print(\"****************************************************\")\n",
    "client.apps.getApps()"
   ],
   "metadata": {
    "collapsed": false
   }
  },
  {
   "cell_type": "markdown",
   "source": [
    "# Get details for the application you created\n",
    "print(\"****************************************************\")\n",
    "print(\"Fetch application: \" + app_id)\n",
    "print(\"****************************************************\")\n",
    "client.apps.getAppLatestVersion(appId=app_id)"
   ],
   "metadata": {
    "collapsed": false
   }
  },
  {
   "cell_type": "markdown",
   "source": [
    "## Jobs\n",
    "\n",
    "We will run two jobs, one on the VM host using FORK and one on the HPC type host using BATCH.\n",
    "\n",
    "We will use the same Tapis application to run both jobs.\n",
    "\n",
    "### Part 1: Run Image classifier app on a Virtual Machine.\n"
   ],
   "metadata": {
    "collapsed": false
   }
  },
  {
   "cell_type": "markdown",
   "source": [
    "# Run Image classifier app on a Virtual Machine\n",
    "# In the arguments pass a url of the image you would like to classify\n",
    "pa = {\n",
    " \"jobType\": \"FORK\",\n",
    " \"parameterSet\": {\n",
    "   \"appArgs\": [\n",
    "     {\"arg\": \"--image_file\"},\n",
    "     {\"arg\": \"https://s3.amazonaws.com/cdn-origin-etr.akc.org/wp-content/uploads/2017/11/12231410/Labrador-Retriever-On-White-01.jpg\"}\n",
    "   ]\n",
    " }\n",
    "}\n",
    "# Submit a job\n",
    "job_response_vm=client.jobs.submitJob(name='img-classifier-job-vm',description='image classifier',appId=app_id,execSystemId=system_id_vm,appVersion= '0.0.1',\n",
    "  **pa)"
   ],
   "metadata": {
    "collapsed": false
   }
  },
  {
   "cell_type": "markdown",
   "source": [
    "### Get Job submission response\n"
   ],
   "metadata": {
    "collapsed": false
   }
  },
  {
   "cell_type": "markdown",
   "source": [
    "# Get Job submission response\n",
    "print(\"****************************************************\")\n",
    "print(\"Job Submitted: \" + app_id)\n",
    "print(\"****************************************************\")\n",
    "print(job_response_vm)"
   ],
   "metadata": {
    "collapsed": false
   }
  },
  {
   "cell_type": "markdown",
   "source": [
    "### Get Jobs Listings\n"
   ],
   "metadata": {
    "collapsed": false
   }
  },
  {
   "cell_type": "markdown",
   "source": [
    "# Get Jobs listings\n",
    "client.jobs.getJobList()"
   ],
   "metadata": {
    "collapsed": false
   }
  },
  {
   "cell_type": "markdown",
   "source": [
    "### Get Job UUID from the submission response\n"
   ],
   "metadata": {
    "collapsed": false
   }
  },
  {
   "cell_type": "markdown",
   "source": [
    "# Get job uuid from the job submission response\n",
    "print(\"****************************************************\")\n",
    "job_uuid_vm=job_response_vm.uuid\n",
    "print(\"Job UUID: \" + job_uuid_vm)\n",
    "print(\"****************************************************\")"
   ],
   "metadata": {
    "collapsed": false
   }
  },
  {
   "cell_type": "markdown",
   "source": [
    "### Check the status of the job\n"
   ],
   "metadata": {
    "collapsed": false
   }
  },
  {
   "cell_type": "markdown",
   "source": [
    "# Check the status of the job\n",
    "print(\"****************************************************\")\n",
    "print(client.jobs.getJobStatus(jobUuid=job_uuid_vm))\n",
    "print(\"****************************************************\")"
   ],
   "metadata": {
    "collapsed": false
   }
  },
  {
   "cell_type": "markdown",
   "source": [
    "### Download output of the job\n"
   ],
   "metadata": {
    "collapsed": false
   }
  },
  {
   "cell_type": "markdown",
   "source": [
    "# Once the job is in the FINISHED state, you can download output of the job\n",
    "print(\"Job Output file:\")\n",
    "\n",
    "print(\"****************************************************\")\n",
    "jobs_output_vm= client.jobs.getJobOutputDownload(jobUuid=job_uuid_vm,outputPath='output.txt')\n",
    "print(jobs_output_vm)\n",
    "print(\"****************************************************\")"
   ],
   "metadata": {
    "collapsed": false
   }
  },
  {
   "cell_type": "markdown",
   "source": [
    "### Setting Notifications on Job events"
   ],
   "metadata": {
    "collapsed": false
   }
  },
  {
   "cell_type": "markdown",
   "source": [
    "# Run Image classifier app on a Virtual Machine\n",
    "# In the arguments pass a url of the image you would like to classify\n",
    "pa = {\n",
    " \"jobType\": \"FORK\",\n",
    " \"parameterSet\": {\n",
    "   \"appArgs\": [\n",
    "     {\"arg\": \"--image_file\"},\n",
    "     {\"arg\": \"https://s3.amazonaws.com/cdn-origin-etr.akc.org/wp-content/uploads/2017/11/12231410/Labrador-Retriever-On-White-01.jpg\"}\n",
    "   ]\n",
    " }\n",
    "}\n",
    "\n",
    "# Submit a job\n",
    "job_response_vm_email=client.jobs.submitJob(name='img-classifier-job-vm',description='image classifier',appId=app_id,execSystemId=system_id_vm,appVersion= '0.0.1',subscriptions= [ { \"description\": \"Test subscriptions\", \"eventCategoryFilter\": \"ALL\",\"deliveryTargets\": [ { \"deliveryMethod\": \"EMAIL\",\"deliveryAddress\":\"ajamthe@tacc.utexas.edu\"}] }],\n",
    "  **pa)"
   ],
   "metadata": {
    "collapsed": false
   }
  },
  {
   "cell_type": "markdown",
   "source": [
    "# Get Job submission response\n",
    "print(\"****************************************************\")\n",
    "print(\"Job Submitted: \" + app_id)\n",
    "print(\"****************************************************\")\n",
    "print(job_response_vm_email)"
   ],
   "metadata": {
    "collapsed": false
   }
  },
  {
   "cell_type": "markdown",
   "source": [
    "# Get job uuid from the job submission response\n",
    "print(\"****************************************************\")\n",
    "job_uuid_vm_email=job_response_vm_email.uuid\n",
    "print(\"Job UUID: \" + job_uuid_vm_email)\n",
    "print(\"****************************************************\")"
   ],
   "metadata": {
    "collapsed": false
   }
  },
  {
   "cell_type": "markdown",
   "source": [
    "# Check the status of the job\n",
    "print(\"****************************************************\")\n",
    "print(client.jobs.getJobStatus(jobUuid=job_uuid_vm_email))\n",
    "print(\"****************************************************\")"
   ],
   "metadata": {
    "collapsed": false
   }
  },
  {
   "cell_type": "markdown",
   "source": [
    "### Cancel a job\n"
   ],
   "metadata": {
    "collapsed": false
   }
  },
  {
   "cell_type": "markdown",
   "source": [
    "# If necessary, you can cancel a long running job.\n",
    "# To cancel a running job\n",
    "# client.jobs.cancelJob(jobUuid=job_uuid_vm)"
   ],
   "metadata": {
    "collapsed": false
   }
  },
  {
   "cell_type": "markdown",
   "source": [
    "## Part 2: Run a Batch Job on HPC type host\n",
    "\n",
    "Using the same Tapis application we can also run the image classifier as a batch job on an HPC type host\n"
   ],
   "metadata": {
    "collapsed": false
   }
  },
  {
   "cell_type": "markdown",
   "source": [
    "# Run Image classifier app on the HPC Machine\n",
    "# In the arg pass a url of the image you would like to classify\n",
    "pa = {\n",
    " \"parameterSet\": {\n",
    "      \"appArgs\": [\n",
    "          {\"arg\": \"--image_file\"},\n",
    "          {\"arg\": \"'https://s3.amazonaws.com/cdn-origin-etr.akc.org/wp-content/uploads/2017/11/12231410/Labrador-Retriever-On-White-01.jpg'\"}\n",
    "      ]\n",
    " }\n",
    "}\n",
    "# Submit a job\n",
    "job_response_hpc=client.jobs.submitJob(name='img-classifier-job-vm',description='image classifier',appId=app_id,execSystemId=system_id_hpc,appVersion= '0.0.1',\n",
    "  **pa)"
   ],
   "metadata": {
    "collapsed": false
   }
  },
  {
   "cell_type": "markdown",
   "source": [
    "### Get Job submission response\n"
   ],
   "metadata": {
    "collapsed": false
   }
  },
  {
   "cell_type": "markdown",
   "source": [
    "print(\"****************************************************\")\n",
    "print(\"Job Submitted: \" + app_id)\n",
    "print(\"****************************************************\")\n",
    "print(job_response_hpc)"
   ],
   "metadata": {
    "collapsed": false
   }
  },
  {
   "cell_type": "markdown",
   "source": [
    "### Check job status\n"
   ],
   "metadata": {
    "collapsed": false
   }
  },
  {
   "cell_type": "markdown",
   "source": [
    "# Check the status of the job\n",
    "print(\"****************************************************\")\n",
    "job_uuid_hpc=job_response_hpc.uuid\n",
    "print(client.jobs.getJobStatus(jobUuid=job_uuid_hpc))\n",
    "print(\"****************************************************\")"
   ],
   "metadata": {
    "collapsed": false
   }
  },
  {
   "cell_type": "markdown",
   "source": [
    "### Download output of the HPC job\n"
   ],
   "metadata": {
    "collapsed": false
   }
  },
  {
   "cell_type": "markdown",
   "source": [
    "# Download output of the job\n",
    "print(\"Job Output file:\")\n",
    "\n",
    "print(\"****************************************************\")\n",
    "jobs_output_hpc= client.jobs.getJobOutputDownload(jobUuid=job_uuid_hpc,outputPath='output.txt')\n",
    "print(jobs_output_hpc)\n",
    "print(\"****************************************************\")"
   ],
   "metadata": {
    "collapsed": false
   }
  },
  {
   "cell_type": "markdown",
   "source": [
    "## Analyzing jobs output"
   ],
   "metadata": {
    "collapsed": false
   }
  },
  {
   "cell_type": "markdown",
   "source": [
    "print (\"==============Image Classifier Scores ============================\")\n",
    "s = jobs_output_vm.split(b'\\n')\n",
    "# If you want to analyze the results of hpc output uncomment the line below and comment line above\n",
    "# s = jobs_output_hpc.split(b'\\n')\n",
    "s.reverse()\n",
    "scores=[]\n",
    "for i in range(1,6):\n",
    "    scores.append(s[i])\n",
    "    print (s[i])"
   ],
   "metadata": {
    "collapsed": false
   }
  },
  {
   "cell_type": "markdown",
   "source": [
    "## Sharing Results\n",
    "You can share your job results with other collaborators within the same tenant by sharing system and output files.\n"
   ],
   "metadata": {
    "collapsed": false
   }
  },
  {
   "cell_type": "markdown",
   "source": [
    "### Grant Permissions on System\n"
   ],
   "metadata": {
    "collapsed": false
   }
  },
  {
   "cell_type": "markdown",
   "source": [
    "client.systems.grantUserPerms(systemId=system_id_vm,userName='training**',permissions=['READ'])"
   ],
   "metadata": {
    "collapsed": false
   }
  },
  {
   "cell_type": "markdown",
   "source": [
    "### Grant Permissions on a specific folder\n"
   ],
   "metadata": {
    "collapsed": false
   }
  },
  {
   "cell_type": "markdown",
   "source": [
    "client.files.grantPermissions(systemId=system_id_vm, path='/workdir', username='training**', permission='READ')"
   ],
   "metadata": {
    "collapsed": false
   }
  },
  {
   "cell_type": "markdown",
   "source": [
    "### Once you have shared system and file with a certain training account, they can perform steps below\n",
    "Add credentials on the system so they can access the shared files\n",
    "\n",
    "Get the contents of shared files\n"
   ],
   "metadata": {
    "collapsed": false
   }
  },
  {
   "cell_type": "markdown",
   "source": [
    "# Get system details\n",
    "client.systems.getSystem(systemId=system_id_vm)"
   ],
   "metadata": {
    "collapsed": false
   }
  },
  {
   "cell_type": "markdown",
   "source": [
    "client.systems.createUserCredential(systemId=system_id_vm, userName=\"training**\", password=\"\")"
   ],
   "metadata": {
    "collapsed": false
   }
  },
  {
   "cell_type": "markdown",
   "source": [
    "# File Download with train***\n",
    "client.files.getContents(systemId=system_id_vm, path='/workdir/jobs/<jobUuid>/output/output.txt')"
   ],
   "metadata": {
    "collapsed": false
   }
  },
  {
   "cell_type": "markdown",
   "source": [
    "## Sharing Application\n",
    "You can share your application with a group of users or share it publicly with all the users in a tenant\n"
   ],
   "metadata": {
    "collapsed": false
   }
  },
  {
   "cell_type": "markdown",
   "source": [
    "# Sharing application with specific users\n",
    "client.apps.ShareApp(appId=app_id, users=[\"trainingXX\"])"
   ],
   "metadata": {
    "collapsed": false
   }
  },
  {
   "cell_type": "markdown",
   "source": [
    "# Get Share info on the app\n",
    "client.apps.getShareInfo(appId=app_id)"
   ],
   "metadata": {
    "collapsed": false
   }
  },
  {
   "cell_type": "markdown",
   "source": [
    "Users with whom you have shared the app, should be able to submit job on that app_id and download job output"
   ],
   "metadata": {
    "collapsed": false
   }
  },
  {
   "cell_type": "markdown",
   "source": [
    "# Unshare app with specific users\n",
    "client.apps.unShareApp(appId=app_id, users=[\"trainingXX\"])"
   ],
   "metadata": {
    "collapsed": false
   }
  },
  {
   "cell_type": "markdown",
   "source": [
    "# Get Share info on the app\n",
    "client.apps.getShareInfo(appId=app_id)"
   ],
   "metadata": {
    "collapsed": false
   }
  },
  {
   "cell_type": "markdown",
   "source": [
    "# Making the app public\n",
    "client.apps.shareAppPublic(appId=app_id)"
   ],
   "metadata": {
    "collapsed": false
   }
  },
  {
   "cell_type": "markdown",
   "source": [
    "# Get Share info on the app\n",
    "client.apps.getShareInfo(appId=app_id)\n",
    "# Now any user in the tenant should be able to run your application"
   ],
   "metadata": {
    "collapsed": false
   }
  },
  {
   "cell_type": "markdown",
   "source": [
    "# Unsharing public app\n",
    "client.apps.unShareAppPublic(appId=app_id)"
   ],
   "metadata": {
    "collapsed": false
   }
  }
 ],
 "metadata": {
  "kernelspec": {
   "display_name": "Python 3",
   "language": "python",
   "name": "python3"
  },
  "language_info": {
   "codemirror_mode": {
    "name": "ipython",
    "version": 3
   },
   "file_extension": ".py",
   "mimetype": "text/x-python",
   "name": "python",
   "nbconvert_exporter": "python",
   "pygments_lexer": "ipython3",
   "version": "3.7.5"
  }
 },
 "nbformat": 4,
 "nbformat_minor": 2
}
